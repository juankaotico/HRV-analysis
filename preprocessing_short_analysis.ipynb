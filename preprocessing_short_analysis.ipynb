{
 "cells": [
  {
   "cell_type": "markdown",
   "id": "19d605a0-5ace-4f6d-b5a4-81d448e584c5",
   "metadata": {},
   "source": [
    "Code for the preprocessing of the stress test files in preparation for the HRV analysis"
   ]
  },
  {
   "cell_type": "markdown",
   "id": "a7d8caa3-11f0-4f13-b2a1-d92132f786a6",
   "metadata": {},
   "source": [
    "**Instalation of the packages**"
   ]
  },
  {
   "cell_type": "code",
   "execution_count": null,
   "id": "07f650f9-d560-41b8-a746-82c6d5907bcb",
   "metadata": {},
   "outputs": [],
   "source": [
    "pip install \"devicely\"\n",
    "pip install \"jointly\""
   ]
  },
  {
   "cell_type": "markdown",
   "id": "6887c615-efb4-4db4-a18d-07cbccf903a9",
   "metadata": {},
   "source": [
    "**Import necessary packages**"
   ]
  },
  {
   "cell_type": "code",
   "execution_count": null,
   "id": "44a5de29-8e2a-4a31-aa61-1b4fd1499a6b",
   "metadata": {},
   "outputs": [],
   "source": [
    "import devicely\n",
    "import jointly\n",
    "import csv\n",
    "import pandas as pd\n",
    "import numpy as np\n",
    "import matplotlib.pyplot as plt"
   ]
  },
  {
   "cell_type": "markdown",
   "id": "dc77fd90-a84c-436f-87af-263f90d9f129",
   "metadata": {},
   "source": [
    "## Read Empatica data ##"
   ]
  },
  {
   "cell_type": "code",
   "execution_count": null,
   "id": "5a7fb23f-ee8f-4123-81f9-a57d8fa8e8b3",
   "metadata": {},
   "outputs": [],
   "source": [
    "empatica_reader = devicely.EmpaticaReader(\"path\") #read the Empatica data from subject"
   ]
  },
  {
   "cell_type": "code",
   "execution_count": null,
   "id": "b90f83b8-0688-4a62-857c-82dd2eb8cea7",
   "metadata": {},
   "outputs": [],
   "source": [
    "empatica_reader.data.head() #check the head of the whole dataset"
   ]
  },
  {
   "cell_type": "code",
   "execution_count": null,
   "id": "cb73b852-97c3-482e-89e5-66d4e8e690d9",
   "metadata": {},
   "outputs": [],
   "source": [
    "empatica_reader.IBI.head() #check the head of Empatica's IBI"
   ]
  },
  {
   "cell_type": "markdown",
   "id": "9bcf4df7-90c9-48e1-b86f-2111bcdcc2c9",
   "metadata": {},
   "source": [
    "**Create a subset to test with the end of the pipeline (EMPATICA)**"
   ]
  },
  {
   "cell_type": "code",
   "execution_count": null,
   "id": "89ac448a-fb02-4361-82b4-c95a4261b3e8",
   "metadata": {},
   "outputs": [],
   "source": [
    "empatica_test = empatica_reader  # copy the data into a working subset"
   ]
  },
  {
   "cell_type": "code",
   "execution_count": null,
   "id": "14e0407d-d8fb-4bcb-ac8f-615dc7da0518",
   "metadata": {},
   "outputs": [],
   "source": [
    "empatica_test.data.head()  #check and match the head of the data"
   ]
  },
  {
   "cell_type": "code",
   "execution_count": null,
   "id": "33703e10-3619-4c3f-9a94-2ae444739415",
   "metadata": {},
   "outputs": [],
   "source": [
    "empatica_test = empatica_test.data.reset_index() # delete the multiIndex"
   ]
  },
  {
   "cell_type": "code",
   "execution_count": null,
   "id": "b9158172-e040-42b5-a7b1-5a6b2910b2c7",
   "metadata": {},
   "outputs": [],
   "source": [
    "empatica_test.head()"
   ]
  },
  {
   "cell_type": "code",
   "execution_count": null,
   "id": "8113f2b3-7095-49f1-822d-2958e5fcf7e9",
   "metadata": {},
   "outputs": [],
   "source": [
    " #delete the unnecessary columns\n",
    "empatica_test = empatica_test.drop(columns = [\"bvp\", \"eda\", \"hr\", \"temp\", \"acc_x\", \"acc_y\", \"acc_z\", \"acc_mag\", \"timedelta\"])"
   ]
  },
  {
   "cell_type": "code",
   "execution_count": null,
   "id": "64b439fc-5082-4482-867d-feefe5e2fe12",
   "metadata": {},
   "outputs": [],
   "source": [
    "empatica_test #check the data"
   ]
  },
  {
   "cell_type": "code",
   "execution_count": null,
   "id": "8a912a04-2b33-4006-a740-67f36d4918d5",
   "metadata": {},
   "outputs": [],
   "source": [
    "empatica_test = empatica_test.loc[empatica_test[\"ibi\"].isnull() != True] # drop all the NaN rows"
   ]
  },
  {
   "cell_type": "code",
   "execution_count": null,
   "id": "8fe11932-e142-4d49-a825-446fff17f15f",
   "metadata": {},
   "outputs": [],
   "source": [
    " #drop the values of RR = 0 (an interval between to subsequents RR can not be 0)\n",
    "empatica_test = empatica_test.drop(empatica_test[empatica_test.ibi == 0.0].index)"
   ]
  },
  {
   "cell_type": "code",
   "execution_count": null,
   "id": "fe303700-90bb-4a53-8c3f-ea592638c91f",
   "metadata": {},
   "outputs": [],
   "source": [
    " #save the working subset\n",
    "empatica_test.to_csv(\"path.csv\", date_format = \"%Y-%m-%d %H:%M:%S.%f\", index=False)"
   ]
  },
  {
   "cell_type": "markdown",
   "id": "6e8c7b34-1742-42a4-b959-f05587a8c7be",
   "metadata": {},
   "source": [
    "## Read Faros data ##"
   ]
  },
  {
   "cell_type": "code",
   "execution_count": null,
   "id": "d4561ec8-03b9-4d25-825a-f54bff4a07fc",
   "metadata": {},
   "outputs": [],
   "source": [
    "faros_reader = devicely.FarosReader(\"path\") #read the Faros data from subject"
   ]
  },
  {
   "cell_type": "code",
   "execution_count": null,
   "id": "d3f62a4b-5f9b-4c9c-9203-648925da57b2",
   "metadata": {},
   "outputs": [],
   "source": [
    "faros_reader.data.head() #check the head of the whole dataset"
   ]
  },
  {
   "cell_type": "markdown",
   "id": "ba8ee28b-839d-493a-b00e-4e5c9f3587d2",
   "metadata": {},
   "source": [
    "**Create a subset to test with the end of the pipeline (FAROS)**"
   ]
  },
  {
   "cell_type": "code",
   "execution_count": null,
   "id": "0274d546-f56c-48a5-8248-9021a950dfbd",
   "metadata": {},
   "outputs": [],
   "source": [
    "faros_test = faros_reader # copy the data into a working subset"
   ]
  },
  {
   "cell_type": "code",
   "execution_count": null,
   "id": "e8ba343f-47eb-4631-bc81-61740170f056",
   "metadata": {},
   "outputs": [],
   "source": [
    "faros_test.data.head() #check and match the head of the data"
   ]
  },
  {
   "cell_type": "code",
   "execution_count": null,
   "id": "649b8580-f053-4d5e-8e05-9b167f4f806c",
   "metadata": {},
   "outputs": [],
   "source": [
    "faros_test = faros_test.data.reset_index() # delete the multiIndex"
   ]
  },
  {
   "cell_type": "code",
   "execution_count": null,
   "id": "20c6b20d-f17f-4c6d-91cb-dc5fca1e05b8",
   "metadata": {},
   "outputs": [],
   "source": [
    "faros_test.head()"
   ]
  },
  {
   "cell_type": "code",
   "execution_count": null,
   "id": "6a3327ef-6c8a-4b61-95b4-451cf37dd84e",
   "metadata": {},
   "outputs": [],
   "source": [
    " #delete the unnecessary columns\n",
    "faros_test = faros_test.drop(columns = [\"ECG\", \"Accelerometer_X\", \"Accelerometer_Y\", \"Accelerometer_Z\", \"Marker\", \"acc_mag\"])"
   ]
  },
  {
   "cell_type": "code",
   "execution_count": null,
   "id": "7867e5dd-ca2e-431a-9a28-d4e022284eba",
   "metadata": {},
   "outputs": [],
   "source": [
    "faros_test #check the data"
   ]
  },
  {
   "cell_type": "code",
   "execution_count": null,
   "id": "23fd54ac-6314-477d-a922-eac185e0edaa",
   "metadata": {},
   "outputs": [],
   "source": [
    "faros_test = faros_test.loc[faros_test[\"HRV\"].isnull() != True] # drop all the NaN rows"
   ]
  },
  {
   "cell_type": "code",
   "execution_count": null,
   "id": "30a406c5-d1b4-4eb0-9521-1f1523ebc470",
   "metadata": {},
   "outputs": [],
   "source": [
    "faros_test = faros_test.drop(faros_test[faros_test.HRV == 0.0].index) #drop the values of RR = 0 (an interval between to subsequents RR can not be 0)"
   ]
  },
  {
   "cell_type": "code",
   "execution_count": null,
   "id": "0b8b57bd-af66-4fd1-939d-34305c77a791",
   "metadata": {},
   "outputs": [],
   "source": [
    " #save the working subset\n",
    "faros_test.to_csv(\"path.csv\", date_format = \"%Y-%m-%d %H:%M:%S.%f\", index=False)"
   ]
  },
  {
   "cell_type": "markdown",
   "id": "6dd8de29-a52c-42df-a091-fff8f5e3056d",
   "metadata": {},
   "source": [
    "## Sync the datasets ##"
   ]
  },
  {
   "cell_type": "markdown",
   "id": "4ad466c9-981d-4b62-bd72-5d7404ab43bf",
   "metadata": {},
   "source": [
    "***Implement jointly***"
   ]
  },
  {
   "cell_type": "markdown",
   "id": "95543c7e-e10f-4b2c-a0fd-4b522bb7d13c",
   "metadata": {},
   "source": [
    "**Sync the data**"
   ]
  },
  {
   "cell_type": "code",
   "execution_count": null,
   "id": "6dd23bcb-ead1-412b-870f-13b9a03ff508",
   "metadata": {},
   "outputs": [],
   "source": [
    "sources = {\n",
    "    'Faros': {\n",
    "        'data': faros_reader_sub1.data,\n",
    "        'ref_column': 'acc_mag',\n",
    "    },\n",
    "    'Empatica': {\n",
    "        'data': empatica_reader_sub1.data,\n",
    "        'ref_column': 'acc_mag',\n",
    "    }\n",
    "}\n",
    "ref_source_name = 'Faros'\n",
    "\n",
    "extractor = jointly.ShakeExtractor()\n",
    "synchronizer = jointly.Synchronizer(sources, ref_source_name, extractor)\n",
    "synced_data = synchronizer.get_synced_data()"
   ]
  },
  {
   "cell_type": "markdown",
   "id": "1b8d09dc-0400-47ef-847a-1e9c346726cb",
   "metadata": {},
   "source": [
    "**Save the data**"
   ]
  },
  {
   "cell_type": "code",
   "execution_count": null,
   "id": "b6be89cb-8aab-44e1-9777-2d0577a22bfd",
   "metadata": {},
   "outputs": [],
   "source": [
    "tables = {\n",
    "    'ACC': {\n",
    "        'Faros': ['Accelerometer_X', 'Accelerometer_Y', 'Accelerometer_Z'],\n",
    "        'Empatica': ['acc_x', 'acc_y', 'acc_z'],\n",
    "    },\n",
    "    'PPG': {\n",
    "        'Empatica': ['bvp'],\n",
    "    },\n",
    "    'EDA': {\n",
    "        'Empatica': ['eda'],\n",
    "    },\n",
    "    'ECG': {\n",
    "        'Faros': ['ECG'],\n",
    "    },\n",
    "    'TEMP': {\n",
    "        'Empatica': ['temp'],\n",
    "    },\n",
    "    'HR': {\n",
    "        'Empatica': ['hr'],\n",
    "    },   \n",
    "    'IBI': {\n",
    "        'Faros': ['HRV'],\n",
    "        'Empatica': ['ibi'],\n",
    "    }\n",
    "}\n",
    "\n",
    "\n",
    "synchronizer.save_data(\"path\", tables=tables)\n",
    "#after the files had been sync, this steps save the file in the destination folder. It creates: \"ACC\", \"ECG\", \"EDA\", \"HR\", \"IBI\", \"PPG\", \"SYNC\",\n",
    "#\"TEMP\" and \"TOTAL\" files.\n"
   ]
  },
  {
   "cell_type": "code",
   "execution_count": null,
   "id": "f55875a9-dbe2-4b11-9e93-3074843aa5b5",
   "metadata": {},
   "outputs": [],
   "source": [
    "#import the IBI.csv file (our working file). This contains the RR from both Empatica and Faros synced and in one file. \n",
    "df1 = pd.read_csv(\"path...\\IBI.csv\", names=[\"date_time\",\"faros_ibi\",\"empatica_ibi\"], \n",
    "                 dtype={\"empatica_ibi\": np.float64, \"faros_ibi\":np.float64}, skiprows=1)"
   ]
  },
  {
   "cell_type": "markdown",
   "id": "a9fe1b13-dd47-432f-9231-d0ab52a2a186",
   "metadata": {},
   "source": [
    "**Plot**"
   ]
  },
  {
   "cell_type": "code",
   "execution_count": null,
   "id": "0292fd9a-fbb5-4894-8e74-ab18d7adce54",
   "metadata": {},
   "outputs": [],
   "source": [
    "data_ibi = pd.read_csv(\"path...\\IBI.csv\", index_col=0)\n",
    "data_ibi.index = pd.to_datetime(data_ibi.index)\n",
    "data_ibi['Empatica_ibi'] = data_ibi['Empatica_ibi'] * 1000\n",
    "plot = data_ibi.interpolate(method='time').plot(figsize=(15,6), ylim=(300,1500))\n",
    "plt.savefig(\"path...\\plot.pdf\")"
   ]
  },
  {
   "cell_type": "code",
   "execution_count": null,
   "id": "5b92440c-48e0-41c0-b956-69f8965e97c1",
   "metadata": {},
   "outputs": [],
   "source": [
    "df1.head() #Check the head of the data"
   ]
  },
  {
   "cell_type": "code",
   "execution_count": null,
   "id": "c22e5cba-fccd-42b1-9207-10122e41882f",
   "metadata": {},
   "outputs": [],
   "source": [
    "df1[\"date_time\"]= pd.to_datetime(df1['date_time']) # transform the time into data time."
   ]
  },
  {
   "cell_type": "code",
   "execution_count": null,
   "id": "b5f2973e-27ae-476c-8ea7-c1dc488baf79",
   "metadata": {},
   "outputs": [],
   "source": [
    "df1.dtypes #check the types of the data, proff time is a correct type"
   ]
  },
  {
   "cell_type": "code",
   "execution_count": null,
   "id": "abb8369d-0a18-45f1-8013-337f61ee739f",
   "metadata": {},
   "outputs": [],
   "source": [
    "df1.head() #check the head(content) of the table. It is important to notice that for the different sample rates, \n",
    "#it will be highly unlikely to have a signal registered in both of the devices. "
   ]
  },
  {
   "cell_type": "markdown",
   "id": "6504d9c4-5766-469e-94ae-efb0464b7036",
   "metadata": {},
   "source": [
    "**Create a subset for FAROS**"
   ]
  },
  {
   "cell_type": "code",
   "execution_count": null,
   "id": "97e7ab62-7264-4c6e-b97c-ba6ad66e7687",
   "metadata": {
    "tags": []
   },
   "outputs": [],
   "source": [
    "df1_1 = df1.loc[df1[\"faros_ibi\"].isnull() != True] #save in a new DF a subset where all the NaN in Faros are droped."
   ]
  },
  {
   "cell_type": "code",
   "execution_count": null,
   "id": "7ec5570b-67a5-445f-9017-3abcb045f99d",
   "metadata": {},
   "outputs": [],
   "source": [
    "df1_1.head() #check the data"
   ]
  },
  {
   "cell_type": "code",
   "execution_count": null,
   "id": "d494bf84-eb1d-47ea-b881-1f8ea596074a",
   "metadata": {},
   "outputs": [],
   "source": [
    "df1_1 = df1_1.drop(columns = [\"empatica_ibi\"]) # drop the column of Empatica from our subset"
   ]
  },
  {
   "cell_type": "code",
   "execution_count": null,
   "id": "08ad2ef5-4210-4716-8cb1-e1d364c34006",
   "metadata": {},
   "outputs": [],
   "source": [
    "df1_1 = df1_1.drop(df1_1[df1_1.faros_ibi == 0.0].index) #drop the values of RR = 0 (an interval between to subsequents RR can not be 0)"
   ]
  },
  {
   "cell_type": "code",
   "execution_count": null,
   "id": "f41de3a8-5598-43d9-8746-a5ef9b1143cc",
   "metadata": {},
   "outputs": [],
   "source": [
    "df1_1.head() #check the head of the file"
   ]
  },
  {
   "cell_type": "code",
   "execution_count": null,
   "id": "cecae967-3cfe-4438-9adc-b959995dc369",
   "metadata": {},
   "outputs": [],
   "source": [
    "df1_1.dtypes #check the datatypes"
   ]
  },
  {
   "cell_type": "code",
   "execution_count": null,
   "id": "e9eafb02-2682-44bd-98c1-ae91d201aa3c",
   "metadata": {},
   "outputs": [],
   "source": [
    "#save the Faros subset into a new file\n",
    "df1_1.to_csv(\"path...\\RR_faros.csv\", date_format = \"%Y-%m-%d %H:%M:%S.%f\", index=False) "
   ]
  },
  {
   "cell_type": "markdown",
   "id": "30568b75-501b-4e9a-a7cf-2e8113b86bb0",
   "metadata": {},
   "source": [
    "***Corrected Faros subset FIRST REST***"
   ]
  },
  {
   "cell_type": "code",
   "execution_count": null,
   "id": "03f8f6e2-9cdb-4eb1-958d-d5da3173624f",
   "metadata": {},
   "outputs": [],
   "source": [
    "#read and store the saved file\n",
    "dfsub1_1 = pd.read_csv(\"path...\\RR_faros.csv\")"
   ]
  },
  {
   "cell_type": "code",
   "execution_count": null,
   "id": "8299d107-a182-4f13-a56c-b61ba4096bca",
   "metadata": {},
   "outputs": [],
   "source": [
    "#set the date/time as index\n",
    "dfsub1_1 = dfsub1_1.set_index(pd.DatetimeIndex(dfsub1_1['date_time']))"
   ]
  },
  {
   "cell_type": "code",
   "execution_count": null,
   "id": "e377a5ed-8e2f-4945-9005-1c348d34e427",
   "metadata": {},
   "outputs": [],
   "source": [
    "#use the date/time index to filter the data to our threshold example: 14:16:30\n",
    "dfsub1_1 = dfsub1_1.between_time(\"start_time\",\"end_time\")"
   ]
  },
  {
   "cell_type": "code",
   "execution_count": null,
   "id": "c99ffad1-bdd1-47fe-8138-a8923b8e3d82",
   "metadata": {},
   "outputs": [],
   "source": [
    "#save the filtered subset into a new file\n",
    "dfsub1_1.to_csv(\"path...\\RR_faros_fit.csv\", index=False) "
   ]
  },
  {
   "cell_type": "markdown",
   "id": "487ccbfc-9f5a-4c49-8eec-091f865a1c80",
   "metadata": {},
   "source": [
    "**Create a subset for EMPATICA**"
   ]
  },
  {
   "cell_type": "code",
   "execution_count": null,
   "id": "d3fcc968-1387-4cbc-8d0f-f908d8478be0",
   "metadata": {},
   "outputs": [],
   "source": [
    "df1_2 = df1.loc[df1[\"empatica_ibi\"].isnull() != True] #save in a new DF a subset where all the NaN in Empatica are droped."
   ]
  },
  {
   "cell_type": "code",
   "execution_count": null,
   "id": "b0e13066-44a4-47dc-93d8-73d1605965a8",
   "metadata": {},
   "outputs": [],
   "source": [
    "df1_2.head() #check the data"
   ]
  },
  {
   "cell_type": "code",
   "execution_count": null,
   "id": "53626c0f-d624-4def-8921-16f2cb637556",
   "metadata": {},
   "outputs": [],
   "source": [
    "df1_2 = df1_2.drop(columns = [\"faros_ibi\"]) # drop the column of Faros from our subset"
   ]
  },
  {
   "cell_type": "code",
   "execution_count": null,
   "id": "9a098aad-3693-47d2-ac9d-afdd66559dcc",
   "metadata": {},
   "outputs": [],
   "source": [
    "df1_2 = df1_2.drop(df1_2[df1_2.empatica_ibi == 0.0].index) #drop the values of RR = 0 (an interval between to subsequents RR can not be 0)"
   ]
  },
  {
   "cell_type": "code",
   "execution_count": null,
   "id": "a730b021-32de-4832-8d7a-88e495de5bef",
   "metadata": {},
   "outputs": [],
   "source": [
    "df1_2.head() #check the head of the file"
   ]
  },
  {
   "cell_type": "code",
   "execution_count": null,
   "id": "ae0878fb-422f-4c39-8c5f-82a09158b89c",
   "metadata": {},
   "outputs": [],
   "source": [
    "df1_2.dtypes #check the datatypes"
   ]
  },
  {
   "cell_type": "code",
   "execution_count": null,
   "id": "78e85e4d-46c8-4f1d-8d3c-3f6c419de5a5",
   "metadata": {},
   "outputs": [],
   "source": [
    "#save the Faros subset into a new file\n",
    "df1_2.to_csv(\"path...\\RR_empatica.csv\", date_format = \"%Y-%m-%d %H:%M:%S.%f\", index=False) "
   ]
  },
  {
   "cell_type": "markdown",
   "id": "64a19075-b619-4ab5-b348-4d1f2120cd35",
   "metadata": {},
   "source": [
    "***Corrected Empatica subset***"
   ]
  },
  {
   "cell_type": "code",
   "execution_count": null,
   "id": "e09c851d-41e2-45c2-8b01-22b69fb09d05",
   "metadata": {},
   "outputs": [],
   "source": [
    "#read and store the saved file\n",
    "dfsub1_2 = pd.read_csv(\"path...\\RR_empatica.csv\")"
   ]
  },
  {
   "cell_type": "code",
   "execution_count": null,
   "id": "c3ce0814-598e-49e8-954d-b917bee973f0",
   "metadata": {},
   "outputs": [],
   "source": [
    "#set the date/time as index\n",
    "dfsub1_2 = dfsub1_2.set_index(pd.DatetimeIndex(dfsub1_2['date_time']))"
   ]
  },
  {
   "cell_type": "code",
   "execution_count": null,
   "id": "095cbef9-768a-44ac-98bc-52bb231a0ef6",
   "metadata": {},
   "outputs": [],
   "source": [
    "#use the date/time index to filter the data to our threshold example: 14:16:30\n",
    "dfsub1_2 = dfsub1_2.between_time(\"start_time\",\"end_time\")"
   ]
  },
  {
   "cell_type": "code",
   "execution_count": null,
   "id": "0da26bf3-08ae-443d-b624-7ec747f76548",
   "metadata": {},
   "outputs": [],
   "source": [
    "#match the difference of scale\n",
    "dfsub1_2[\"empatica_ibi\"] = dfsub1_2[\"empatica_ibi\"]*1000"
   ]
  },
  {
   "cell_type": "code",
   "execution_count": null,
   "id": "04b71a6e-431d-4c20-8e1b-5dd543cc9d01",
   "metadata": {},
   "outputs": [],
   "source": [
    "#save the filtered subset into a new file\n",
    "dfsub1_2.to_csv(\"path...\\RR_empatica_fit.csv\", index=False) "
   ]
  }
 ],
 "metadata": {
  "kernelspec": {
   "display_name": "Python 3",
   "language": "python",
   "name": "python3"
  },
  "language_info": {
   "codemirror_mode": {
    "name": "ipython",
    "version": 3
   },
   "file_extension": ".py",
   "mimetype": "text/x-python",
   "name": "python",
   "nbconvert_exporter": "python",
   "pygments_lexer": "ipython3",
   "version": "3.9.4"
  }
 },
 "nbformat": 4,
 "nbformat_minor": 5
}
