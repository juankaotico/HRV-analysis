{
 "cells": [
  {
   "cell_type": "markdown",
   "id": "19d605a0-5ace-4f6d-b5a4-81d448e584c5",
   "metadata": {},
   "source": [
    "Code for the preprocessing of the 24 hours evaluation files in preparation for the HRV analysis"
   ]
  },
  {
   "cell_type": "markdown",
   "id": "a7d8caa3-11f0-4f13-b2a1-d92132f786a6",
   "metadata": {},
   "source": [
    "**Instalation of the packages**"
   ]
  },
  {
   "cell_type": "code",
   "execution_count": null,
   "id": "07f650f9-d560-41b8-a746-82c6d5907bcb",
   "metadata": {},
   "outputs": [],
   "source": [
    "pip install \"devicely\"\n",
    "pip install \"jointly\""
   ]
  },
  {
   "cell_type": "markdown",
   "id": "6887c615-efb4-4db4-a18d-07cbccf903a9",
   "metadata": {},
   "source": [
    "**Import necessary packages**"
   ]
  },
  {
   "cell_type": "code",
   "execution_count": null,
   "id": "44a5de29-8e2a-4a31-aa61-1b4fd1499a6b",
   "metadata": {},
   "outputs": [],
   "source": [
    "import devicely\n",
    "import jointly\n",
    "import csv\n",
    "import pandas as pd\n",
    "import numpy as np\n",
    "import matplotlib.pyplot as plt\n",
    "from datetime import datetime\n",
    "from datetime import timedelta"
   ]
  },
  {
   "cell_type": "markdown",
   "id": "dc77fd90-a84c-436f-87af-263f90d9f129",
   "metadata": {},
   "source": [
    "## Read Empatica data ##"
   ]
  },
  {
   "cell_type": "code",
   "execution_count": null,
   "id": "5a7fb23f-ee8f-4123-81f9-a57d8fa8e8b3",
   "metadata": {},
   "outputs": [],
   "source": [
    "empatica_reader = devicely.EmpaticaReader(\"path\") \n",
    "#read the Empatica data from subject "
   ]
  },
  {
   "cell_type": "code",
   "execution_count": null,
   "id": "b90f83b8-0688-4a62-857c-82dd2eb8cea7",
   "metadata": {},
   "outputs": [],
   "source": [
    "empatica_reader.data.head() #check the head of the whole dataset"
   ]
  },
  {
   "cell_type": "code",
   "execution_count": null,
   "id": "cb73b852-97c3-482e-89e5-66d4e8e690d9",
   "metadata": {},
   "outputs": [],
   "source": [
    "empatica_reader.IBI.head() #check the head of Empatica's IBI"
   ]
  },
  {
   "cell_type": "markdown",
   "id": "9bcf4df7-90c9-48e1-b86f-2111bcdcc2c9",
   "metadata": {},
   "source": [
    "**Create a subset with only IBI data (EMPATICA)**"
   ]
  },
  {
   "cell_type": "code",
   "execution_count": null,
   "id": "89ac448a-fb02-4361-82b4-c95a4261b3e8",
   "metadata": {},
   "outputs": [],
   "source": [
    "empatica_test = empatica_reader # copy the data into a working subset"
   ]
  },
  {
   "cell_type": "code",
   "execution_count": null,
   "id": "14e0407d-d8fb-4bcb-ac8f-615dc7da0518",
   "metadata": {},
   "outputs": [],
   "source": [
    "empatica_test.data.head()  #check and match the head of the data"
   ]
  },
  {
   "cell_type": "code",
   "execution_count": null,
   "id": "912a3767-8eb0-4793-8380-d4702d0f9d5b",
   "metadata": {},
   "outputs": [],
   "source": [
    "#move the date index to align with Faros\n",
    "utc_shift =  pd.Timedelta('-15 day')\n",
    "empatica_test.timeshift(utc_shift)\n",
    "\n",
    "empatica_test.data.head()"
   ]
  },
  {
   "cell_type": "code",
   "execution_count": null,
   "id": "c25b7317-f939-45f9-ae84-73b925e7a624",
   "metadata": {},
   "outputs": [],
   "source": [
    "# move the time index to align with Faros\n",
    "utc_shift1 =  pd.Timedelta('+2 hours')\n",
    "empatica_test.timeshift(utc_shift1)\n",
    "\n",
    "empatica_test.data.head()"
   ]
  },
  {
   "cell_type": "code",
   "execution_count": null,
   "id": "33703e10-3619-4c3f-9a94-2ae444739415",
   "metadata": {},
   "outputs": [],
   "source": [
    "empatica_test = empatica_test.data.reset_index() # delete the multiIndex"
   ]
  },
  {
   "cell_type": "code",
   "execution_count": null,
   "id": "b9158172-e040-42b5-a7b1-5a6b2910b2c7",
   "metadata": {},
   "outputs": [],
   "source": [
    "empatica_test.head()"
   ]
  },
  {
   "cell_type": "code",
   "execution_count": null,
   "id": "8113f2b3-7095-49f1-822d-2958e5fcf7e9",
   "metadata": {},
   "outputs": [],
   "source": [
    " #delete the unnecessary columns\n",
    "empatica_test = empatica_test.drop(columns = [\"bvp\", \"eda\", \"hr\", \"temp\", \"acc_x\", \"acc_y\", \"acc_z\", \"acc_mag\", \"timedelta\"])"
   ]
  },
  {
   "cell_type": "code",
   "execution_count": null,
   "id": "6ede1a00-05c0-4ce8-95df-53fa0d8b89bf",
   "metadata": {},
   "outputs": [],
   "source": [
    "empatica_test.rename (columns = {\"index\":\"time\"}, inplace= True)"
   ]
  },
  {
   "cell_type": "code",
   "execution_count": null,
   "id": "64b439fc-5082-4482-867d-feefe5e2fe12",
   "metadata": {},
   "outputs": [],
   "source": [
    "empatica_test #check the data"
   ]
  },
  {
   "cell_type": "code",
   "execution_count": null,
   "id": "8a912a04-2b33-4006-a740-67f36d4918d5",
   "metadata": {},
   "outputs": [],
   "source": [
    "empatica_test = empatica_test.loc[empatica_test[\"ibi\"].isnull() != True] # drop all the NaN rows"
   ]
  },
  {
   "cell_type": "code",
   "execution_count": null,
   "id": "8fe11932-e142-4d49-a825-446fff17f15f",
   "metadata": {},
   "outputs": [],
   "source": [
    " #drop the values of RR = 0 (an interval between to subsequents RR can not be 0)\n",
    "empatica_test = empatica_test.drop(empatica_test[empatica_test.ibi == 0.0].index)"
   ]
  },
  {
   "cell_type": "code",
   "execution_count": null,
   "id": "fe303700-90bb-4a53-8c3f-ea592638c91f",
   "metadata": {},
   "outputs": [],
   "source": [
    " #save the working subset\n",
    "empatica_test.to_csv(\"path...\\empatica.csv\", date_format = \"%Y-%m-%d %H:%M:%S.%f\", index=False)"
   ]
  },
  {
   "cell_type": "markdown",
   "id": "6e8c7b34-1742-42a4-b959-f05587a8c7be",
   "metadata": {},
   "source": [
    "## Read Faros data ##"
   ]
  },
  {
   "cell_type": "code",
   "execution_count": null,
   "id": "d4561ec8-03b9-4d25-825a-f54bff4a07fc",
   "metadata": {},
   "outputs": [],
   "source": [
    "faros_reader = devicely.FarosReader(\"path\")\n",
    "#read the Faros data from subject "
   ]
  },
  {
   "cell_type": "code",
   "execution_count": null,
   "id": "d3f62a4b-5f9b-4c9c-9203-648925da57b2",
   "metadata": {},
   "outputs": [],
   "source": [
    "faros_reader.data #check the head of the whole dataset"
   ]
  },
  {
   "cell_type": "markdown",
   "id": "ba8ee28b-839d-493a-b00e-4e5c9f3587d2",
   "metadata": {},
   "source": [
    "**Create a subset with only IBI data (FAROS)**"
   ]
  },
  {
   "cell_type": "code",
   "execution_count": null,
   "id": "0274d546-f56c-48a5-8248-9021a950dfbd",
   "metadata": {},
   "outputs": [],
   "source": [
    "faros_test = faros_reader # copy the data into a working subset"
   ]
  },
  {
   "cell_type": "code",
   "execution_count": null,
   "id": "e8ba343f-47eb-4631-bc81-61740170f056",
   "metadata": {},
   "outputs": [],
   "source": [
    "faros_test.data.head() #check and match the head of the data"
   ]
  },
  {
   "cell_type": "code",
   "execution_count": null,
   "id": "649b8580-f053-4d5e-8e05-9b167f4f806c",
   "metadata": {},
   "outputs": [],
   "source": [
    "faros_test = faros_test.data.reset_index() # delete the multiIndex"
   ]
  },
  {
   "cell_type": "code",
   "execution_count": null,
   "id": "20c6b20d-f17f-4c6d-91cb-dc5fca1e05b8",
   "metadata": {},
   "outputs": [],
   "source": [
    "faros_test.head()"
   ]
  },
  {
   "cell_type": "code",
   "execution_count": null,
   "id": "6a3327ef-6c8a-4b61-95b4-451cf37dd84e",
   "metadata": {},
   "outputs": [],
   "source": [
    " #delete the unnecessary columns\n",
    "faros_test = faros_test.drop(columns = [\"ECG\", \"Accelerometer_X\", \"Accelerometer_Y\", \"Accelerometer_Z\", \"Marker\", \"acc_mag\"])"
   ]
  },
  {
   "cell_type": "code",
   "execution_count": null,
   "id": "7867e5dd-ca2e-431a-9a28-d4e022284eba",
   "metadata": {},
   "outputs": [],
   "source": [
    "faros_test #check the data"
   ]
  },
  {
   "cell_type": "code",
   "execution_count": null,
   "id": "23fd54ac-6314-477d-a922-eac185e0edaa",
   "metadata": {},
   "outputs": [],
   "source": [
    "faros_test = faros_test.loc[faros_test[\"HRV\"].isnull() != True] # drop all the NaN rows"
   ]
  },
  {
   "cell_type": "code",
   "execution_count": null,
   "id": "30a406c5-d1b4-4eb0-9521-1f1523ebc470",
   "metadata": {},
   "outputs": [],
   "source": [
    "faros_test = faros_test.drop(faros_test[faros_test.HRV == 0.0].index) #drop the values of RR = 0 (an interval between to subsequents RR can not be 0)"
   ]
  },
  {
   "cell_type": "code",
   "execution_count": null,
   "id": "0b8b57bd-af66-4fd1-939d-34305c77a791",
   "metadata": {},
   "outputs": [],
   "source": [
    " #save the working subset\n",
    "faros_test.to_csv(\"path...\\faros.csv\", date_format = \"%Y-%m-%d %H:%M:%S.%f\", index=False)"
   ]
  },
  {
   "cell_type": "markdown",
   "id": "c191ab17-84b9-44c8-ac0e-8ee7b587f9f6",
   "metadata": {},
   "source": [
    "## Call our new working data sets"
   ]
  },
  {
   "cell_type": "code",
   "execution_count": null,
   "id": "fa5a7e81-2b60-44d6-95e2-8550db63f32b",
   "metadata": {},
   "outputs": [],
   "source": [
    "empatica_short = pd.read_csv(\"path...\\empatica.csv\")"
   ]
  },
  {
   "cell_type": "code",
   "execution_count": null,
   "id": "dabb34e9-f6dc-4648-adaa-9285a7e4221b",
   "metadata": {},
   "outputs": [],
   "source": [
    "empatica_short"
   ]
  },
  {
   "cell_type": "code",
   "execution_count": null,
   "id": "5f2f4b4d-6bab-48d5-9948-d827b4694b97",
   "metadata": {},
   "outputs": [],
   "source": [
    "faros_short = pd.read_csv(\"path...\\faros.csv\")"
   ]
  },
  {
   "cell_type": "code",
   "execution_count": null,
   "id": "f21ce67c-f0d5-4704-b728-00fc9e546cfe",
   "metadata": {},
   "outputs": [],
   "source": [
    "faros_short"
   ]
  },
  {
   "cell_type": "markdown",
   "id": "2d1f696f-00ac-46be-a008-44768cd0839f",
   "metadata": {},
   "source": [
    "### Set the indeces for the data-reading"
   ]
  },
  {
   "cell_type": "code",
   "execution_count": null,
   "id": "e720f917-3834-4e1c-86ed-08cca8f6c685",
   "metadata": {},
   "outputs": [],
   "source": [
    "empatica_short[\"time\"]= pd.to_datetime(empatica_short['time']) # transform the time into data time."
   ]
  },
  {
   "cell_type": "code",
   "execution_count": null,
   "id": "49ac1de9-d67d-4c0e-b699-dae54e816f6d",
   "metadata": {},
   "outputs": [],
   "source": [
    "empatica_short.dtypes #check the types of the data, proff time is a correct type"
   ]
  },
  {
   "cell_type": "code",
   "execution_count": null,
   "id": "17d3dbd7-18ec-4d43-9911-6e899557c46d",
   "metadata": {},
   "outputs": [],
   "source": [
    "empatica_short.head() #check the head(content) of the table. It is important to notice that for the different sample rates, "
   ]
  },
  {
   "cell_type": "code",
   "execution_count": null,
   "id": "e88ed152-20bc-40d6-9c50-2082e098ee67",
   "metadata": {},
   "outputs": [],
   "source": [
    "empatica_short = empatica_short.set_index('time')"
   ]
  },
  {
   "cell_type": "code",
   "execution_count": null,
   "id": "91654fee-a6a5-4b2f-8f35-3f2b4f8d7c52",
   "metadata": {},
   "outputs": [],
   "source": [
    "empatica_short[\"ibi\"] = empatica_short[\"ibi\"]*1000 # the scale of the empatica data is fixed"
   ]
  },
  {
   "cell_type": "code",
   "execution_count": null,
   "id": "7a75bebf-b9a6-42fe-a69b-8ec9da1ac8a7",
   "metadata": {},
   "outputs": [],
   "source": [
    "faros_short[\"time\"]= pd.to_datetime(faros_short['time']) # transform the time into data time."
   ]
  },
  {
   "cell_type": "code",
   "execution_count": null,
   "id": "0e0ab648-9b09-44fa-a703-37910328a4fd",
   "metadata": {},
   "outputs": [],
   "source": [
    "faros_short.dtypes"
   ]
  },
  {
   "cell_type": "code",
   "execution_count": null,
   "id": "8f80cc73-597e-42f9-bdc7-21dba369880c",
   "metadata": {},
   "outputs": [],
   "source": [
    "faros_short.head()"
   ]
  },
  {
   "cell_type": "code",
   "execution_count": null,
   "id": "e3fc5a23-98f9-4b33-91ab-216f0c4b1777",
   "metadata": {},
   "outputs": [],
   "source": [
    "faros_short = faros_short.set_index('time')"
   ]
  },
  {
   "cell_type": "markdown",
   "id": "6dd8de29-a52c-42df-a091-fff8f5e3056d",
   "metadata": {},
   "source": [
    "## Cut and align DATA ##"
   ]
  },
  {
   "cell_type": "code",
   "execution_count": null,
   "id": "52f7e096-861e-45e6-a9bb-64141394ba0f",
   "metadata": {},
   "outputs": [],
   "source": [
    "#we cut the data to the self-reported sleep time example \"23:30:00\",\"06:30:00\"\n",
    "empatica_short = empatica_short.between_time(\"start_time\",\"end_time\")"
   ]
  },
  {
   "cell_type": "code",
   "execution_count": null,
   "id": "f70af3c5-f228-4182-994d-0e0bcdaa9114",
   "metadata": {},
   "outputs": [],
   "source": [
    "#save the filtered subset into a new file\n",
    "empatica_short.to_csv(\"path...\\RR_empatica_fit.csv\") "
   ]
  },
  {
   "cell_type": "code",
   "execution_count": null,
   "id": "a98c70e3-423e-4654-82cd-034d3174a287",
   "metadata": {},
   "outputs": [],
   "source": [
    "#we cut the data to the self-reported sleep time example \"23:30:00\",\"06:30:00\"\n",
    "faros_short = faros_short.between_time(\"start_time\",\"end_time\")"
   ]
  },
  {
   "cell_type": "code",
   "execution_count": null,
   "id": "ef424f04-909f-4f4b-8be6-9192c503000a",
   "metadata": {},
   "outputs": [],
   "source": [
    "#save the filtered subset into a new file\n",
    "faros_short.to_csv(\"path...\\RR_faros_fit.csv\") "
   ]
  },
  {
   "cell_type": "markdown",
   "id": "9660e28e-2698-4fa4-b433-513a96f6b689",
   "metadata": {},
   "source": [
    "## Plot"
   ]
  },
  {
   "cell_type": "code",
   "execution_count": null,
   "id": "b85de5dd-b73d-41a8-836f-fdba81eb8ee3",
   "metadata": {},
   "outputs": [],
   "source": [
    "merged_data = pd.merge(empatica_short, faros_short, how=\"outer\", on=\"time\")\n",
    "merged_data.rename(columns={\"ibi\": \"Empatica\", \"HRV\": \"Faros\"}, inplace = True)"
   ]
  },
  {
   "cell_type": "code",
   "execution_count": null,
   "id": "79846200-d4b4-469d-a06b-627403ea2abc",
   "metadata": {},
   "outputs": [],
   "source": [
    "plot = merged_data.interpolate(method='time').plot(figsize=(15,6), ylim=(300,1500))"
   ]
  },
  {
   "cell_type": "markdown",
   "id": "7414eec0-de43-43fe-953f-1730a330c57f",
   "metadata": {},
   "source": [
    "## Cut in 10 mins segments and create files from each one"
   ]
  },
  {
   "cell_type": "code",
   "execution_count": null,
   "id": "fb2cf9ac-e285-4d17-8937-e7e2eba453f6",
   "metadata": {},
   "outputs": [],
   "source": [
    "start_time = empatica_short.index[0] #define our initial time (PPG device)\n",
    "end = empatica_short.index[-1] - timedelta(minutes = 10) #end time limit of the analyzed data\n",
    "i = 0\n",
    "while start_time <= end:\n",
    "    \n",
    "    last_time = start_time + timedelta(minutes = 10)\n",
    "    df = empatica_short.between_time((pd.to_datetime(start_time).strftime(\"%H:%M:%S\")), (pd.to_datetime(last_time)).strftime(\"%H:%M:%S\"))\n",
    "    #df holding the 10 minutes segment from slicing the original data\n",
    "    df.to_csv(\"path...\\Empatica_Segment{}.csv\".format(i)) \n",
    "    start_time = start_time + timedelta(minutes = 5)\n",
    "    i = i + 1"
   ]
  },
  {
   "cell_type": "code",
   "execution_count": null,
   "id": "d45d8379-2399-41bc-959b-28e197b6c914",
   "metadata": {},
   "outputs": [],
   "source": [
    "start_time = faros_short.index[0] #define our initial time (ECG device)\n",
    "end = faros_short.index[-1] - timedelta(minutes = 10) #end time limit of the analyzed data\n",
    "i = 0\n",
    "while start_time <= end:\n",
    "    \n",
    "    last_time = start_time + timedelta(minutes = 10)\n",
    "    df = faros_short.between_time((pd.to_datetime(start_time).strftime(\"%H:%M:%S\")), (pd.to_datetime(last_time)).strftime(\"%H:%M:%S\"))\n",
    "    #df holding the 10 minutes segment from slicing the original data\n",
    "    df.to_csv(\"path...\\Faros_Segment{}.csv\".format(i)) \n",
    "    start_time = start_time + timedelta(minutes = 5)\n",
    "    i = i + 1"
   ]
  }
 ],
 "metadata": {
  "kernelspec": {
   "display_name": "Python 3",
   "language": "python",
   "name": "python3"
  },
  "language_info": {
   "codemirror_mode": {
    "name": "ipython",
    "version": 3
   },
   "file_extension": ".py",
   "mimetype": "text/x-python",
   "name": "python",
   "nbconvert_exporter": "python",
   "pygments_lexer": "ipython3",
   "version": "3.9.4"
  }
 },
 "nbformat": 4,
 "nbformat_minor": 5
}
