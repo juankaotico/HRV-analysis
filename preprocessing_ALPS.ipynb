{
 "cells": [
  {
   "cell_type": "markdown",
   "id": "analyzed-slovenia",
   "metadata": {},
   "source": [
    "Code for the preprocessing of the 24 hours evaluation files in preparation for the HRV analysis"
   ]
  },
  {
   "cell_type": "markdown",
   "id": "confident-grenada",
   "metadata": {},
   "source": [
    "**Instalation of the packages**"
   ]
  },
  {
   "cell_type": "code",
   "execution_count": null,
   "id": "designing-script",
   "metadata": {},
   "outputs": [],
   "source": [
    "pip install \"devicely\"\n",
    "pip install \"jointly\""
   ]
  },
  {
   "cell_type": "markdown",
   "id": "hazardous-enforcement",
   "metadata": {},
   "source": [
    "**Import necessary packages**"
   ]
  },
  {
   "cell_type": "code",
   "execution_count": null,
   "id": "sticky-memphis",
   "metadata": {},
   "outputs": [],
   "source": [
    "import devicely\n",
    "import jointly\n",
    "import csv\n",
    "import pandas as pd\n",
    "import numpy as np\n",
    "import matplotlib.pyplot as plt\n",
    "from datetime import datetime\n",
    "from datetime import timedelta\n",
    "import os"
   ]
  },
  {
   "cell_type": "markdown",
   "id": "ceramic-palmer",
   "metadata": {},
   "source": [
    "## Read Empatica data ##"
   ]
  },
  {
   "cell_type": "code",
   "execution_count": null,
   "id": "micro-faculty",
   "metadata": {},
   "outputs": [],
   "source": [
    "empatica_reader = devicely.EmpaticaReader(\"path\") \n",
    "#read the Empatica data from subject "
   ]
  },
  {
   "cell_type": "code",
   "execution_count": null,
   "id": "infinite-slovakia",
   "metadata": {},
   "outputs": [],
   "source": [
    "empatica_reader.data.head()"
   ]
  },
  {
   "cell_type": "code",
   "execution_count": null,
   "id": "foreign-tunisia",
   "metadata": {},
   "outputs": [],
   "source": [
    "empatica_reader.data.head() #check the head of the whole dataset"
   ]
  },
  {
   "cell_type": "code",
   "execution_count": null,
   "id": "numeric-heating",
   "metadata": {},
   "outputs": [],
   "source": [
    "empatica_reader.IBI.head() #check the head of Empatica's IBI"
   ]
  },
  {
   "cell_type": "code",
   "execution_count": null,
   "id": "running-bacteria",
   "metadata": {},
   "outputs": [],
   "source": [
    "df1 = empatica_reader  # copy the data into a working subset"
   ]
  },
  {
   "cell_type": "code",
   "execution_count": null,
   "id": "finnish-coffee",
   "metadata": {},
   "outputs": [],
   "source": [
    "df1.data.head()  #check and match the head of the data"
   ]
  },
  {
   "cell_type": "code",
   "execution_count": null,
   "id": "fixed-morning",
   "metadata": {},
   "outputs": [],
   "source": [
    "#move the date index to align with Faros\n",
    "utc_shift =  pd.Timedelta('-15 day')\n",
    "df1.timeshift(utc_shift)\n",
    "\n",
    "df1.data.head()"
   ]
  },
  {
   "cell_type": "code",
   "execution_count": null,
   "id": "editorial-bacteria",
   "metadata": {},
   "outputs": [],
   "source": [
    "# move the time index to align with Faros\n",
    "utc_shift1 =  pd.Timedelta('+2 hours')\n",
    "df1.timeshift(utc_shift1)\n",
    "\n",
    "df1.data.head()"
   ]
  },
  {
   "cell_type": "code",
   "execution_count": null,
   "id": "concrete-percentage",
   "metadata": {},
   "outputs": [],
   "source": [
    "#filter the sleep segment example \"2019-06-06 00:00:00\":\"2019-06-06 07:00:00\"\n",
    "df1.data = df1.data[\"start_time\":\"end_time\"]"
   ]
  },
  {
   "cell_type": "code",
   "execution_count": null,
   "id": "hazardous-escape",
   "metadata": {},
   "outputs": [],
   "source": [
    "df1.data"
   ]
  },
  {
   "cell_type": "code",
   "execution_count": null,
   "id": "different-tunisia",
   "metadata": {},
   "outputs": [],
   "source": [
    "df1.IBI"
   ]
  },
  {
   "cell_type": "markdown",
   "id": "48dc2fee-480a-4587-9dcc-1249cbe1184b",
   "metadata": {},
   "source": [
    "## Cut in 10 mins segments and create files from each one"
   ]
  },
  {
   "cell_type": "code",
   "execution_count": null,
   "id": "indoor-maple",
   "metadata": {},
   "outputs": [],
   "source": [
    "start = \"initial_time\" #date time format example \"2019-06-06 00:00:00\"\n",
    "start_time = datetime.strptime(start, '%Y-%m-%d %H:%M:%S') #define our initial time\n",
    "end = \"final_time\"\n",
    "end_time = datetime.strptime(end, '%Y-%m-%d %H:%M:%S') #end time limit of the analyzed data\n",
    "\n",
    "i = 0\n",
    "while start_time <= end_time:\n",
    "    df1 = original\n",
    "    newtime= start_time + timedelta(minutes = 10)\n",
    "    df1.data = df1.data.loc[start_time.strftime('%Y-%m-%d %H:%M:%S') : newtime.strftime('%Y-%m-%d %H:%M:%S')] #filtering of the dataset\n",
    "    df1.IBI = df1.IBI.loc[start_time.strftime('%Y-%m-%d %H:%M:%S') : newtime.strftime('%Y-%m-%d %H:%M:%S')]\n",
    "    empatica_write_path = os.path.join(\"target_path\", 'Empatica'+str(i)) #select and create target path\n",
    "    df1.write(empatica_write_path) #write the 10 minutes segment in the target path\n",
    "    original = devicely.EmpaticaReader(\"original_file_path\") #read the original non-afected file for new iteration\n",
    "    start_time = start_time + timedelta(minutes = 5) #5 minutes sliding window\n",
    "    i = i + 1"
   ]
  }
 ],
 "metadata": {
  "kernelspec": {
   "display_name": "Python 3",
   "language": "python",
   "name": "python3"
  },
  "language_info": {
   "codemirror_mode": {
    "name": "ipython",
    "version": 3
   },
   "file_extension": ".py",
   "mimetype": "text/x-python",
   "name": "python",
   "nbconvert_exporter": "python",
   "pygments_lexer": "ipython3",
   "version": "3.9.4"
  }
 },
 "nbformat": 4,
 "nbformat_minor": 5
}
